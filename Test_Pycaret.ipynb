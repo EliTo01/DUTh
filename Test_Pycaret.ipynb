{
  "nbformat": 4,
  "nbformat_minor": 0,
  "metadata": {
    "colab": {
      "provenance": [],
      "authorship_tag": "ABX9TyM5JtcsXQv1mTtI8M29wrU/",
      "include_colab_link": true
    },
    "kernelspec": {
      "name": "python3",
      "display_name": "Python 3"
    },
    "language_info": {
      "name": "python"
    }
  },
  "cells": [
    {
      "cell_type": "markdown",
      "metadata": {
        "id": "view-in-github",
        "colab_type": "text"
      },
      "source": [
        "<a href=\"https://colab.research.google.com/github/kdemertzis/DUTh/blob/main/Test_Pycaret.ipynb\" target=\"_parent\"><img src=\"https://colab.research.google.com/assets/colab-badge.svg\" alt=\"Open In Colab\"/></a>"
      ]
    },
    {
      "cell_type": "code",
      "execution_count": null,
      "metadata": {
        "id": "0P5VGV6S7Y7z"
      },
      "outputs": [],
      "source": [
        "!pip install pycaret"
      ]
    },
    {
      "cell_type": "code",
      "source": [
        "import pycaret\n",
        "import pandas as pd\n",
        "import numpy as np\n",
        "import matplotlib.pyplot as plt\n",
        "from pycaret.classification import *"
      ],
      "metadata": {
        "id": "wWlFGIXp7df_"
      },
      "execution_count": null,
      "outputs": []
    },
    {
      "cell_type": "code",
      "source": [
        "# define the location of the dataset\n",
        "url = 'https://raw.githubusercontent.com/kdemertzis/datashare/main/cancer.csv'\n",
        "# load the dataset\n",
        "df = pd.read_csv(url, header=None)\n",
        "# summarize the shape of the dataset\n",
        "print(df.shape)"
      ],
      "metadata": {
        "id": "Eh7zbwH27ggs"
      },
      "execution_count": null,
      "outputs": []
    },
    {
      "cell_type": "code",
      "source": [
        "# set column names as the column number\n",
        "n_cols = df.shape[1]\n",
        "df.columns = [str(i) for i in range(n_cols)]"
      ],
      "metadata": {
        "id": "HrHM-6lN7khC"
      },
      "execution_count": null,
      "outputs": []
    },
    {
      "cell_type": "code",
      "source": [
        "# summarize the first few rows of data\n",
        "print(df.head())"
      ],
      "metadata": {
        "id": "bWcG-shQ7lV2"
      },
      "execution_count": null,
      "outputs": []
    },
    {
      "cell_type": "code",
      "source": [
        "# setup the dataset\n",
        "grid = setup(data=df, target=df.columns[-1], html=False, silent=True, verbose=False)"
      ],
      "metadata": {
        "id": "WKLfHrVs7njT"
      },
      "execution_count": null,
      "outputs": []
    },
    {
      "cell_type": "code",
      "source": [
        "best = compare_models(cross_validation=False, n_select = 1) \n",
        "%load_ext tensorboard"
      ],
      "metadata": {
        "id": "jZ4Vcy5e7qwZ"
      },
      "execution_count": null,
      "outputs": []
    },
    {
      "cell_type": "code",
      "source": [
        "# report the best model\n",
        "print(best)"
      ],
      "metadata": {
        "id": "8LAFUrOP7t_y"
      },
      "execution_count": null,
      "outputs": []
    },
    {
      "cell_type": "code",
      "source": [
        "ridge = create_model('ridge')"
      ],
      "metadata": {
        "id": "IavmCr8r7y2X"
      },
      "execution_count": null,
      "outputs": []
    },
    {
      "cell_type": "code",
      "source": [
        "evaluate_model(ridge)"
      ],
      "metadata": {
        "id": "MgX7GKd-72OT"
      },
      "execution_count": null,
      "outputs": []
    }
  ]
}